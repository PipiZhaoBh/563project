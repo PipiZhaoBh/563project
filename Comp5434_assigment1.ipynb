{
 "cells": [
  {
   "cell_type": "markdown",
   "source": [
    "# COMP 5434 Assignment_1\n",
    "ZHAO Baihan 21046974g\n",
    "## Q1"
   ],
   "metadata": {
    "collapsed": false
   }
  },
  {
   "cell_type": "markdown",
   "source": [
    "$$\\mathrm{TF}_{t,d} = \\mathrm{log}_2(1 + f_{t,d})$$\n",
    "$$\\mathrm{IDF}_t = \\mathrm{log}_2(\\frac{N - n_t}{n_t} + 2) $$"
   ],
   "metadata": {
    "collapsed": false
   }
  },
  {
   "cell_type": "code",
   "execution_count": 59,
   "metadata": {
    "collapsed": true,
    "pycharm": {
     "name": "#%%\n"
    }
   },
   "outputs": [],
   "source": [
    "import numpy as np"
   ]
  },
  {
   "cell_type": "markdown",
   "source": [
    "Input all documents"
   ],
   "metadata": {
    "collapsed": false
   }
  },
  {
   "cell_type": "code",
   "execution_count": 10,
   "outputs": [],
   "source": [
    "doc1=['business', 'bull', 'quarter', 'business', 'bull']\n",
    "doc2=['bull', 'medicine', 'medicine']\n",
    "doc3=['bull', 'quarter', 'medicine', 'business']"
   ],
   "metadata": {
    "collapsed": false,
    "pycharm": {
     "name": "#%%\n"
    }
   }
  },
  {
   "cell_type": "markdown",
   "source": [
    "Get all tokens"
   ],
   "metadata": {
    "collapsed": false
   }
  },
  {
   "cell_type": "code",
   "execution_count": 17,
   "outputs": [],
   "source": [
    "doc = list(set(doc1 + doc2 + doc3))"
   ],
   "metadata": {
    "collapsed": false,
    "pycharm": {
     "name": "#%%\n"
    }
   }
  },
  {
   "cell_type": "code",
   "execution_count": 18,
   "outputs": [],
   "source": [
    "doc1_count = [doc1.count(x) for x in doc]\n",
    "doc2_count = [doc2.count(x) for x in doc]\n",
    "doc3_count = [doc3.count(x) for x in doc]"
   ],
   "metadata": {
    "collapsed": false,
    "pycharm": {
     "name": "#%%\n"
    }
   }
  },
  {
   "cell_type": "markdown",
   "source": [
    "Count $f_{t, d}$ for each token and document."
   ],
   "metadata": {
    "collapsed": false
   }
  },
  {
   "cell_type": "code",
   "execution_count": 19,
   "outputs": [
    {
     "data": {
      "text/plain": "([0, 2, 2, 1], [2, 0, 1, 0], [1, 1, 1, 1])"
     },
     "execution_count": 19,
     "metadata": {},
     "output_type": "execute_result"
    }
   ],
   "source": [
    "doc1_count, doc2_count, doc3_count"
   ],
   "metadata": {
    "collapsed": false,
    "pycharm": {
     "name": "#%%\n"
    }
   }
  },
  {
   "cell_type": "code",
   "execution_count": 21,
   "outputs": [],
   "source": [
    "doc1_TF = [np.log2(x + 1) for  x in doc1_count]\n",
    "doc2_TF = [np.log2(x + 1) for  x in doc2_count]\n",
    "doc3_TF = [np.log2(x + 1) for  x in doc3_count]"
   ],
   "metadata": {
    "collapsed": false,
    "pycharm": {
     "name": "#%%\n"
    }
   }
  },
  {
   "cell_type": "code",
   "execution_count": 22,
   "outputs": [
    {
     "data": {
      "text/plain": "([0.0, 1.584962500721156, 1.584962500721156, 1.0],\n [1.584962500721156, 0.0, 1.0, 0.0],\n [1.0, 1.0, 1.0, 1.0])"
     },
     "execution_count": 22,
     "metadata": {},
     "output_type": "execute_result"
    }
   ],
   "source": [
    "doc1_TF, doc2_TF, doc3_TF"
   ],
   "metadata": {
    "collapsed": false,
    "pycharm": {
     "name": "#%%\n"
    }
   }
  },
  {
   "cell_type": "markdown",
   "source": [
    "Count $n_t$ for each token."
   ],
   "metadata": {
    "collapsed": false
   }
  },
  {
   "cell_type": "code",
   "execution_count": 37,
   "outputs": [],
   "source": [
    "n_t = np.array(doc1_count) + np.array(doc2_count) +  np.array(doc3_count)"
   ],
   "metadata": {
    "collapsed": false,
    "pycharm": {
     "name": "#%%\n"
    }
   }
  },
  {
   "cell_type": "code",
   "execution_count": 38,
   "outputs": [
    {
     "data": {
      "text/plain": "array([3, 3, 4, 2])"
     },
     "execution_count": 38,
     "metadata": {},
     "output_type": "execute_result"
    }
   ],
   "source": [
    "n_t"
   ],
   "metadata": {
    "collapsed": false,
    "pycharm": {
     "name": "#%%\n"
    }
   }
  },
  {
   "cell_type": "code",
   "execution_count": 32,
   "outputs": [],
   "source": [
    "N = 3"
   ],
   "metadata": {
    "collapsed": false,
    "pycharm": {
     "name": "#%%\n"
    }
   }
  },
  {
   "cell_type": "code",
   "execution_count": 35,
   "outputs": [],
   "source": [
    "IDF = [np.log2((N - x) / x + 2) for x in n_t]"
   ],
   "metadata": {
    "collapsed": false,
    "pycharm": {
     "name": "#%%\n"
    }
   }
  },
  {
   "cell_type": "code",
   "execution_count": 36,
   "outputs": [
    {
     "data": {
      "text/plain": "[1.0, 1.0, 0.8073549220576041, 1.3219280948873624]"
     },
     "execution_count": 36,
     "metadata": {},
     "output_type": "execute_result"
    }
   ],
   "source": [
    "IDF"
   ],
   "metadata": {
    "collapsed": false,
    "pycharm": {
     "name": "#%%\n"
    }
   }
  },
  {
   "cell_type": "markdown",
   "source": [
    "Count $w_{t, d} = \\mathrm{TF}_{t,d} * \\mathrm{IDF}_t$."
   ],
   "metadata": {
    "collapsed": false
   }
  },
  {
   "cell_type": "code",
   "execution_count": 39,
   "outputs": [],
   "source": [
    "w_1 = np.array(doc1_count) * n_t"
   ],
   "metadata": {
    "collapsed": false,
    "pycharm": {
     "name": "#%%\n"
    }
   }
  },
  {
   "cell_type": "code",
   "execution_count": 43,
   "outputs": [],
   "source": [
    "w_2 = np.array(doc2_count) * n_t"
   ],
   "metadata": {
    "collapsed": false,
    "pycharm": {
     "name": "#%%\n"
    }
   }
  },
  {
   "cell_type": "code",
   "execution_count": 44,
   "outputs": [],
   "source": [
    "w_3 = np.array(doc3_count) * n_t"
   ],
   "metadata": {
    "collapsed": false,
    "pycharm": {
     "name": "#%%\n"
    }
   }
  },
  {
   "cell_type": "code",
   "execution_count": 45,
   "outputs": [
    {
     "data": {
      "text/plain": "(array([0, 6, 8, 2]), array([6, 0, 4, 0]), array([3, 3, 4, 2]))"
     },
     "execution_count": 45,
     "metadata": {},
     "output_type": "execute_result"
    }
   ],
   "source": [
    "w_1, w_2, w_3"
   ],
   "metadata": {
    "collapsed": false,
    "pycharm": {
     "name": "#%%\n"
    }
   }
  },
  {
   "cell_type": "markdown",
   "source": [
    "Count cosine similarity for doc1,doc2 and doc1, doc3.count.\n",
    "$$\\mathrm{CosSim(q,x)} = \\frac{q \\cdot x} {||q|| || x||}$$"
   ],
   "metadata": {
    "collapsed": false
   }
  },
  {
   "cell_type": "code",
   "execution_count": 56,
   "outputs": [],
   "source": [
    "cos_similarity_12 = w_1 @ w_2 / (np.linalg.norm(w_1, ord=2) * np.linalg.norm(w_2, ord=2))"
   ],
   "metadata": {
    "collapsed": false,
    "pycharm": {
     "name": "#%%\n"
    }
   }
  },
  {
   "cell_type": "code",
   "execution_count": 57,
   "outputs": [],
   "source": [
    "cos_similarity_13 = w_1 @ w_3 / (np.linalg.norm(w_1, ord=2) * np.linalg.norm(w_3, ord=2))"
   ],
   "metadata": {
    "collapsed": false,
    "pycharm": {
     "name": "#%%\n"
    }
   }
  },
  {
   "cell_type": "code",
   "execution_count": 58,
   "outputs": [
    {
     "data": {
      "text/plain": "(0.43514263457633695, 0.8589844300173002)"
     },
     "execution_count": 58,
     "metadata": {},
     "output_type": "execute_result"
    }
   ],
   "source": [
    "cos_similarity_12, cos_similarity_13"
   ],
   "metadata": {
    "collapsed": false,
    "pycharm": {
     "name": "#%%\n"
    }
   }
  },
  {
   "cell_type": "markdown",
   "source": [
    "## Q2"
   ],
   "metadata": {
    "collapsed": false
   }
  },
  {
   "cell_type": "code",
   "execution_count": 60,
   "outputs": [],
   "source": [
    "points = [[3, 9],\n",
    "          [2, 8],\n",
    "          [3, 8],\n",
    "          [4, 8],\n",
    "          [6, 8],\n",
    "          [7, 8],\n",
    "          [2, 7],\n",
    "          [3, 7],\n",
    "          [5, 7],\n",
    "          [7, 7],\n",
    "          [3, 6],\n",
    "          [4, 6],\n",
    "          [6, 6],\n",
    "          [7, 6],\n",
    "          [6, 5],\n",
    "          [3, 4],\n",
    "          [7, 4],\n",
    "          [1, 3],\n",
    "          [3, 3],\n",
    "          [4, 3],\n",
    "          [6, 3],\n",
    "          [7, 3],\n",
    "          [8, 3],\n",
    "          [9, 3],\n",
    "          [2, 2],\n",
    "          [2, 1]]"
   ],
   "metadata": {
    "collapsed": false,
    "pycharm": {
     "name": "#%%\n"
    }
   }
  },
  {
   "cell_type": "code",
   "execution_count": 61,
   "outputs": [],
   "source": [
    "points = np.array(points)"
   ],
   "metadata": {
    "collapsed": false,
    "pycharm": {
     "name": "#%%\n"
    }
   }
  },
  {
   "cell_type": "code",
   "execution_count": 62,
   "outputs": [],
   "source": [
    "import matplotlib.pyplot as plt"
   ],
   "metadata": {
    "collapsed": false,
    "pycharm": {
     "name": "#%%\n"
    }
   }
  },
  {
   "cell_type": "code",
   "execution_count": 149,
   "outputs": [
    {
     "data": {
      "text/plain": "<Figure size 500x500 with 1 Axes>",
      "image/png": "[encoded data removed]"
     },
     "metadata": {
      "needs_background": "light"
     },
     "output_type": "display_data"
    }
   ],
   "source": [
    "\n",
    "plt.figure(figsize=(5, 5), dpi=100)\n",
    "plt.scatter(points[:, 0], points[:, 1])\n",
    "plt.show()"
   ],
   "metadata": {
    "collapsed": false,
    "pycharm": {
     "name": "#%%\n"
    }
   }
  },
  {
   "cell_type": "code",
   "execution_count": 77,
   "outputs": [],
   "source": [
    "min_point_num = 4\n",
    "eps = np.sqrt(2)\n",
    "inner_point = []\n",
    "for i in range(len(points)):\n",
    "    point_test = points[i, :]\n",
    "    inner_point_num = 0\n",
    "    for j in range(len(points)):\n",
    "        point = points[j, :]\n",
    "        dis = np.linalg.norm(point_test - point)\n",
    "        inner_point_num += 0 if dis > eps else 1\n",
    "    inner_point.append(inner_point_num - 1)\n",
    "        "
   ],
   "metadata": {
    "collapsed": false,
    "pycharm": {
     "name": "#%%\n"
    }
   }
  },
  {
   "cell_type": "code",
   "execution_count": 90,
   "outputs": [
    {
     "data": {
      "text/plain": "array([3, 4, 5, 4, 3, 2, 4, 6, 4, 4, 3, 3, 4, 3, 3, 2, 4, 1, 3, 2, 2, 3,\n       3, 1, 3, 1])"
     },
     "execution_count": 90,
     "metadata": {},
     "output_type": "execute_result"
    }
   ],
   "source": [
    "inner_point"
   ],
   "metadata": {
    "collapsed": false,
    "pycharm": {
     "name": "#%%\n"
    }
   }
  },
  {
   "cell_type": "code",
   "execution_count": 97,
   "outputs": [
    {
     "data": {
      "text/plain": "<Figure size 500x500 with 1 Axes>",
      "image/png": "[encoded data removed]"
     },
     "metadata": {
      "needs_background": "light"
     },
     "output_type": "display_data"
    }
   ],
   "source": [
    "inner_point = np.array(inner_point)\n",
    "outlier = points[inner_point == 0]\n",
    "plt.figure(figsize=(5, 5), dpi=100)\n",
    "plt.scatter(outlier[:, 0], outlier[:, 1], c='green', label='outlier points')\n",
    "\n",
    "core_points = points[inner_point >= 4]\n",
    "plt.scatter(core_points[:, 0], core_points[:, 1], c='red', label='core points')\n",
    "\n",
    "border_points = points[(inner_point <4) & (inner_point > 0)]\n",
    "plt.scatter(border_points[:, 0], border_points[:, 1], c='blue', label='border points')\n",
    "plt.legend()\n",
    "plt.show()"
   ],
   "metadata": {
    "collapsed": false,
    "pycharm": {
     "name": "#%%\n"
    }
   }
  },
  {
   "cell_type": "markdown",
   "source": [
    "The red points are the core points, and the blue points are the border points.\n",
    "It is clear that there are no outliers."
   ],
   "metadata": {
    "collapsed": false
   }
  },
  {
   "cell_type": "markdown",
   "source": [
    "- Choose poing b as the first point to star the DBSCAN."
   ],
   "metadata": {
    "collapsed": false,
    "pycharm": {
     "name": "#%% md\n"
    }
   }
  },
  {
   "cell_type": "code",
   "execution_count": 113,
   "outputs": [],
   "source": [
    "def get_near_points(x):\n",
    "    neighborhood = []\n",
    "    for i in range(len(points)):\n",
    "        y = points[i, :]\n",
    "        if np.linalg.norm(y - x) <= eps:\n",
    "            neighborhood.append(i)\n",
    "    return set(neighborhood)"
   ],
   "metadata": {
    "collapsed": false,
    "pycharm": {
     "name": "#%%\n"
    }
   }
  },
  {
   "cell_type": "code",
   "execution_count": 132,
   "outputs": [],
   "source": [
    "points_in =set()\n",
    "point_checked = set()\n",
    "\n",
    "b_neighborhood = get_near_points(points[1, :])\n",
    "\n",
    "points_in = points_in.union(b_neighborhood)\n",
    "\n",
    "point_need_check = b_neighborhood.difference(point_checked)"
   ],
   "metadata": {
    "collapsed": false,
    "pycharm": {
     "name": "#%%\n"
    }
   }
  },
  {
   "cell_type": "code",
   "execution_count": 150,
   "outputs": [],
   "source": [
    "while len(point_need_check) > 0:\n",
    "    x = point_need_check.pop()\n",
    "    point_checked.update({x})\n",
    "    x_neighborhood = get_near_points(points[x, :])\n",
    "    x_point_need_check = x_neighborhood.difference(point_checked)\n",
    "    point_need_check = point_need_check.union(x_point_need_check)"
   ],
   "metadata": {
    "collapsed": false,
    "pycharm": {
     "name": "#%%\n"
    }
   }
  },
  {
   "cell_type": "code",
   "execution_count": 145,
   "outputs": [
    {
     "data": {
      "text/plain": "{0, 1, 2, 3, 4, 5, 6, 7, 8, 9, 10, 11, 12, 13, 14, 16, 20, 21, 22, 23}"
     },
     "execution_count": 145,
     "metadata": {},
     "output_type": "execute_result"
    }
   ],
   "source": [
    "point_checked"
   ],
   "metadata": {
    "collapsed": false,
    "pycharm": {
     "name": "#%%\n"
    }
   }
  },
  {
   "cell_type": "code",
   "execution_count": 146,
   "outputs": [],
   "source": [
    "checked_points = points[np.array(list(point_checked)), :]"
   ],
   "metadata": {
    "collapsed": false,
    "pycharm": {
     "name": "#%%\n"
    }
   }
  },
  {
   "cell_type": "code",
   "execution_count": 151,
   "outputs": [
    {
     "data": {
      "text/plain": "<Figure size 500x500 with 1 Axes>",
      "image/png": "[encoded data removed]"
     },
     "metadata": {
      "needs_background": "light"
     },
     "output_type": "display_data"
    }
   ],
   "source": [
    "\n",
    "plt.figure(figsize=(5, 5), dpi=100)\n",
    "plt.scatter(points[:, 0], points[:, 1], label='C2')\n",
    "\n",
    "plt.scatter(checked_points[:, 0], checked_points[:, 1], label='C1')\n",
    "plt.legend()\n",
    "plt.show()\n"
   ],
   "metadata": {
    "collapsed": false,
    "pycharm": {
     "name": "#%%\n"
    }
   }
  },
  {
   "cell_type": "markdown",
   "source": [
    "As the picture shows, when we choose the b(2, 8) as the first point to start DBSCAN, all the oranges points are detected in the first step. So, they are the first Cluster.\n",
    "And it is clear to see that, points lasted are the second Cluster."
   ],
   "metadata": {
    "collapsed": false,
    "pycharm": {
     "name": "#%% md\n"
    }
   }
  },
  {
   "cell_type": "markdown",
   "source": [
    "## Q3\n"
   ],
   "metadata": {
    "collapsed": false,
    "pycharm": {
     "name": "#%% md\n"
    }
   }
  },
  {
   "cell_type": "code",
   "execution_count": 153,
   "outputs": [],
   "source": [
    "T_1 = {'A', 'B', 'C'}\n",
    "T_2 = {'E', 'B', 'D'}\n",
    "T_3 = {'A', 'B', 'D', 'E'}\n",
    "T_4 = {'D', 'E'}\n",
    "T_5 = {'F'}\n",
    "T = [T_1, T_2, T_3, T_4, T_5]"
   ],
   "metadata": {
    "collapsed": false,
    "pycharm": {
     "name": "#%%\n"
    }
   }
  },
  {
   "cell_type": "code",
   "execution_count": 156,
   "outputs": [
    {
     "name": "stdout",
     "output_type": "stream",
     "text": [
      "{'B', 'A', 'F', 'D', 'C', 'E'}\n"
     ]
    }
   ],
   "source": [
    "TT = set()\n",
    "for t in T:\n",
    "    TT = TT.union(t)\n",
    "print(TT)"
   ],
   "metadata": {
    "collapsed": false,
    "pycharm": {
     "name": "#%%\n"
    }
   }
  },
  {
   "cell_type": "code",
   "execution_count": 157,
   "outputs": [],
   "source": [
    "from itertools import chain, combinations\n",
    "\n",
    "def powerset(iterable):\n",
    "    \"\"\"\n",
    "    powerset([1,2,3]) --> () (1,) (2,) (3,) (1,2) (1,3) (2,3) (1,2,3)\n",
    "    \"\"\"\n",
    "    xs = list(iterable)\n",
    "    # note we return an iterator rather than a list\n",
    "    return chain.from_iterable(combinations(xs,n) for n in range(len(xs)+1))"
   ],
   "metadata": {
    "collapsed": false,
    "pycharm": {
     "name": "#%%\n"
    }
   }
  },
  {
   "cell_type": "code",
   "execution_count": 160,
   "outputs": [
    {
     "name": "stdout",
     "output_type": "stream",
     "text": [
      "set()\n",
      "{'B'}\n",
      "{'A'}\n",
      "{'F'}\n",
      "{'D'}\n",
      "{'C'}\n",
      "{'E'}\n",
      "{'B', 'A'}\n",
      "{'F', 'B'}\n",
      "{'D', 'B'}\n",
      "{'B', 'C'}\n",
      "{'B', 'E'}\n",
      "{'F', 'A'}\n",
      "{'D', 'A'}\n",
      "{'C', 'A'}\n",
      "{'A', 'E'}\n",
      "{'F', 'D'}\n",
      "{'F', 'C'}\n",
      "{'F', 'E'}\n",
      "{'D', 'C'}\n",
      "{'D', 'E'}\n",
      "{'C', 'E'}\n",
      "{'F', 'B', 'A'}\n",
      "{'D', 'B', 'A'}\n",
      "{'C', 'B', 'A'}\n",
      "{'B', 'A', 'E'}\n",
      "{'F', 'D', 'B'}\n",
      "{'F', 'B', 'C'}\n",
      "{'F', 'B', 'E'}\n",
      "{'D', 'B', 'C'}\n",
      "{'D', 'B', 'E'}\n",
      "{'B', 'C', 'E'}\n",
      "{'F', 'D', 'A'}\n",
      "{'C', 'F', 'A'}\n",
      "{'F', 'A', 'E'}\n",
      "{'C', 'D', 'A'}\n",
      "{'D', 'A', 'E'}\n",
      "{'C', 'A', 'E'}\n",
      "{'F', 'D', 'C'}\n",
      "{'F', 'D', 'E'}\n",
      "{'F', 'C', 'E'}\n",
      "{'D', 'C', 'E'}\n",
      "{'F', 'D', 'B', 'A'}\n",
      "{'C', 'F', 'B', 'A'}\n",
      "{'F', 'B', 'A', 'E'}\n",
      "{'C', 'D', 'B', 'A'}\n",
      "{'D', 'B', 'A', 'E'}\n",
      "{'C', 'B', 'A', 'E'}\n",
      "{'F', 'D', 'B', 'C'}\n",
      "{'F', 'D', 'B', 'E'}\n",
      "{'F', 'B', 'C', 'E'}\n",
      "{'D', 'B', 'C', 'E'}\n",
      "{'C', 'F', 'D', 'A'}\n",
      "{'F', 'D', 'A', 'E'}\n",
      "{'C', 'F', 'A', 'E'}\n",
      "{'C', 'D', 'A', 'E'}\n",
      "{'F', 'D', 'C', 'E'}\n",
      "{'F', 'B', 'A', 'D', 'C'}\n",
      "{'F', 'E', 'B', 'A', 'D'}\n",
      "{'F', 'E', 'B', 'A', 'C'}\n",
      "{'E', 'B', 'A', 'D', 'C'}\n",
      "{'F', 'E', 'B', 'D', 'C'}\n",
      "{'F', 'E', 'A', 'D', 'C'}\n",
      "{'F', 'E', 'B', 'A', 'D', 'C'}\n"
     ]
    }
   ],
   "source": [
    "for tt in powerset(list(TT)):\n",
    "    print(set(tt))"
   ],
   "metadata": {
    "collapsed": false,
    "pycharm": {
     "name": "#%%\n"
    }
   }
  },
  {
   "cell_type": "code",
   "execution_count": null,
   "outputs": [],
   "source": [],
   "metadata": {
    "collapsed": false,
    "pycharm": {
     "name": "#%%\n"
    }
   }
  }
 ],
 "metadata": {
  "kernelspec": {
   "display_name": "Python 3",
   "language": "python",
   "name": "python3"
  },
  "language_info": {
   "codemirror_mode": {
    "name": "ipython",
    "version": 2
   },
   "file_extension": ".py",
   "mimetype": "text/x-python",
   "name": "python",
   "nbconvert_exporter": "python",
   "pygments_lexer": "ipython2",
   "version": "2.7.6"
  }
 },
 "nbformat": 4,
 "nbformat_minor": 0
}